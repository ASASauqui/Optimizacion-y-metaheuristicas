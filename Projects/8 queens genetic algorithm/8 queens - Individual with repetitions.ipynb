{
 "cells": [
  {
   "cell_type": "markdown",
   "metadata": {},
   "source": [
    "## ==================== Libraries ===================="
   ]
  },
  {
   "cell_type": "code",
   "execution_count": 1,
   "metadata": {},
   "outputs": [],
   "source": [
    "# Determinadas\n",
    "import pandas\n",
    "import numpy as np\n",
    "import matplotlib.pyplot as plt\n",
    "import math\n",
    "import random\n",
    "\n",
    "# Procesamiento de imágenes\n",
    "from PIL import Image"
   ]
  },
  {
   "cell_type": "markdown",
   "metadata": {},
   "source": [
    "## <br><br><br>==================== Functions ===================="
   ]
  },
  {
   "cell_type": "markdown",
   "metadata": {},
   "source": [
    "### Objetive Function"
   ]
  },
  {
   "cell_type": "code",
   "execution_count": 2,
   "metadata": {},
   "outputs": [],
   "source": [
    "def objectiveFunction(queens): # 100 fitness máximo\n",
    "    # Número de reinas.\n",
    "    n = 8\n",
    "    \n",
    "    # Variable de fitness.\n",
    "    fitness = 100\n",
    "    \n",
    "    # Arreglo para verificar repeticiones en las filas.\n",
    "    repeatedColumns = np.zeros(8) \n",
    "    \n",
    "    # Checar que no se repitan en las filas.\n",
    "    for i in range(n):\n",
    "        if repeatedColumns[queens[i]] == 1:\n",
    "            fitness -= 1\n",
    "        else:\n",
    "            repeatedColumns[queens[i]] = 1\n",
    "    \n",
    "    \n",
    "    # Checar que no se repitan en las diagonales por la derecha.\n",
    "    for i in range(n):\n",
    "        for j in range(n):\n",
    "            # Si j es mayor que i.\n",
    "            if j > i:\n",
    "                # Diagonal derecha para abajo y para arriba.\n",
    "                if queens[j] == queens[i]+(j-i) or queens[j] == queens[i]-(j-i):\n",
    "                    fitness -= 1\n",
    "            # Si j es menor que i.\n",
    "            elif j < i:\n",
    "                # Diagonal izquierda para abajo y para arriba.\n",
    "                if queens[j] == queens[i]+(i-j) or queens[j] == queens[i]-(i-j):\n",
    "                    fitness -= 1\n",
    "                \n",
    "    return fitness"
   ]
  },
  {
   "cell_type": "markdown",
   "metadata": {},
   "source": [
    "### Random Element"
   ]
  },
  {
   "cell_type": "code",
   "execution_count": 3,
   "metadata": {},
   "outputs": [],
   "source": [
    "def getRandomizeElement():\n",
    "    # Número de reinas.\n",
    "    n = 8\n",
    "    \n",
    "    # Arreglo de reinas.\n",
    "    queens = np.zeros(8, dtype=int)\n",
    "    \n",
    "    for i in range(n):\n",
    "        # Generar número random.\n",
    "        r = random.randint(0, n-1)\n",
    "        \n",
    "        # Agregar valor\n",
    "        queens[i] = r\n",
    "\n",
    "    return queens"
   ]
  },
  {
   "cell_type": "markdown",
   "metadata": {},
   "source": [
    "### <br><br><br><br>Genetic Algorithm"
   ]
  },
  {
   "cell_type": "markdown",
   "metadata": {},
   "source": [
    "#### Selection functions"
   ]
  },
  {
   "cell_type": "code",
   "execution_count": 4,
   "metadata": {},
   "outputs": [],
   "source": [
    "def parentsSelectionByTournament(k, populationFitness):\n",
    "    # Obtener el tamaño de la población.\n",
    "    N = len(populationFitness)\n",
    "    \n",
    "    # Matriz para guardar la población del torneo.\n",
    "    newPopulation = np.zeros(k, dtype=int)\n",
    "\n",
    "    # Rellenar matriz con nuevos individuos.\n",
    "    for i in range(k):\n",
    "        while True:\n",
    "            # Generar número random.\n",
    "            r = random.randint(0, N-1)\n",
    "            \n",
    "            # Si todavía no ha sido seleccionado dicho individuo.\n",
    "            if r not in newPopulation:\n",
    "                # Agregar individuo.\n",
    "                newPopulation[i] = r\n",
    "\n",
    "                break\n",
    "        \n",
    "    # El mejor individuo.\n",
    "    fittestIndividual = newPopulation[ np.argmax(populationFitness[newPopulation]) ]\n",
    "    \n",
    "    return fittestIndividual"
   ]
  },
  {
   "cell_type": "code",
   "execution_count": 5,
   "metadata": {},
   "outputs": [],
   "source": [
    "def parentsSelectionByRoulette(k, populationFitness):\n",
    "    # Obtener el tamaño de la población.\n",
    "    N = len(populationFitness)\n",
    "    \n",
    "    # Lista para guardar las proporciones de cada individuo.\n",
    "    proportionsRange = np.zeros((N,2))\n",
    "    \n",
    "    # Total suma de fitness.\n",
    "    totalFitness = np.sum(populationFitness)\n",
    "        \n",
    "    # Calcular ruleta.\n",
    "    roulette = np.cumsum(populationFitness / totalFitness)\n",
    "\n",
    "    # Matriz para guardar la población de la ruleta.\n",
    "    newPopulation = np.zeros(k, dtype=int)\n",
    "    \n",
    "    # Rellenar \n",
    "    for i in range(k):\n",
    "        while True:\n",
    "            # Generar un número random entre 0 y 1.\n",
    "            randomNumber = np.random.uniform(0, 1, 1)\n",
    "\n",
    "            # Checar qué rango es.\n",
    "            j = 0\n",
    "            while roulette[j] < randomNumber:\n",
    "                j += 1\n",
    "                \n",
    "            # Si todavía no ha sido seleccionado dicho individuo.\n",
    "            if j not in newPopulation:\n",
    "                # Agregar individuo.\n",
    "                newPopulation[i] = j\n",
    "\n",
    "                break\n",
    "                    \n",
    "    # El mejor individuo.\n",
    "    fittestIndividual = newPopulation[ np.argmax(populationFitness[newPopulation]) ]\n",
    "    \n",
    "    return fittestIndividual"
   ]
  },
  {
   "cell_type": "markdown",
   "metadata": {},
   "source": [
    "#### Crossover functions"
   ]
  },
  {
   "cell_type": "code",
   "execution_count": 6,
   "metadata": {},
   "outputs": [],
   "source": [
    "def simpleCrossover(Pr, k, populationList, populationFitness):\n",
    "    # Obtener el tamaño de la población.\n",
    "    N = len(populationList)\n",
    "    \n",
    "    # Matriz para guardar la nueva población.\n",
    "    newPopulation = np.zeros_like(populationList)\n",
    "    \n",
    "    for i in range(N):\n",
    "        # Generar un número random entre 0 y 1.\n",
    "        r = np.random.uniform(0, 1, 1)\n",
    "        \n",
    "        # Si el número random es menor que la Pr.\n",
    "        if r < Pr:\n",
    "            # Seleccionar padres.\n",
    "            parent1 = populationList[ parentsSelectionByTournament(k, populationFitness) ]\n",
    "            parent2 = populationList[ parentsSelectionByTournament(k, populationFitness) ]\n",
    "            # parent1 = populationList[ parentsSelectionByRoulette(k, populationFitness) ]\n",
    "            # parent2 = populationList[ parentsSelectionByRoulette(k, populationFitness) ]\n",
    "            \n",
    "            # Dividir en partes a los papás.\n",
    "            part1 = parent1[:len(parent1)//2]\n",
    "            part2 = parent2[len(parent2)//2:]\n",
    "            \n",
    "            # Obtener al hijo.\n",
    "            offspring = np.concatenate((part1,part2), axis=None)\n",
    "                   \n",
    "            # Agregar a la población.      \n",
    "            newPopulation[i] = offspring\n",
    "        else:\n",
    "            # Seleccionar padre.\n",
    "            parent = populationList[ parentsSelectionByTournament(k, populationFitness) ]\n",
    "            # parent = populationList[ parentsSelectionByRoulette(k, populationFitness) ]\n",
    "            \n",
    "            # Agregar a la población.      \n",
    "            newPopulation[i] = parent\n",
    "        \n",
    "    return newPopulation"
   ]
  },
  {
   "cell_type": "code",
   "execution_count": 7,
   "metadata": {},
   "outputs": [],
   "source": [
    "def partialCrossover(Pr, k, populationList, populationFitness):\n",
    "    # Obtener el tamaña de la población.\n",
    "    N = len(populationList)\n",
    "    \n",
    "    # Matriz para guardar la nueva población.\n",
    "    newPopulation = np.zeros_like(populationList)\n",
    "    \n",
    "    for i in range(N):\n",
    "        # Generar un número random entre 0 y 1.\n",
    "        r = np.random.uniform(0, 1, 1)\n",
    "        \n",
    "        # Si el número random es menor que la Pr.\n",
    "        if r < Pr:\n",
    "            # Seleccionar padres.\n",
    "            parent1 = populationList[ parentsSelectionByTournament(k, populationFitness) ]\n",
    "            parent2 = populationList[ parentsSelectionByTournament(k, populationFitness) ]\n",
    "            # parent1 = populationList[ parentsSelectionByRoulette(k, populationFitness) ]\n",
    "            # parent2 = populationList[ parentsSelectionByRoulette(k, populationFitness) ]\n",
    "            \n",
    "            # Obtener la división\n",
    "            exactDivision = len(parent1)//3\n",
    "            \n",
    "            # Dividir en partes a los papás.\n",
    "            part1 = parent2[:exactDivision]\n",
    "            part2 = parent1[exactDivision:exactDivision*2]\n",
    "            part3 = parent2[exactDivision*2:]\n",
    "            \n",
    "            # Crear arreglo donde irá el offspring.\n",
    "            offspring = -1*np.ones((len(parent1)), dtype=int)\n",
    "            \n",
    "            # Copiar elementos del primer padre.\n",
    "            for j,m in enumerate(range(exactDivision,exactDivision*2)):\n",
    "                offspring[m] = part2[j]\n",
    "                \n",
    "            # Copiar los elementos del segundo padre (primer tercio).\n",
    "            for j,m in enumerate(range(0,exactDivision)):\n",
    "                offspring[m] = part1[j]\n",
    "                    \n",
    "            # Copiar los elementos del segundo padre (segundo tercio).\n",
    "            for j,m in enumerate(range(exactDivision*2,len(offspring))):\n",
    "                offspring[m] = part3[j]\n",
    "                            \n",
    "            # Agregar a la población.      \n",
    "            newPopulation[i] = offspring\n",
    "        else:\n",
    "            # Seleccionar padre.\n",
    "            parent = parentsSelectionByTournament(k, populationList, populationFitness)\n",
    "            # parent = parentsSelectionByRoulette(k, populationList, populationFitness)\n",
    "\n",
    "            # Agregar a la población.      \n",
    "            newPopulation[i] = parent\n",
    "    \n",
    "    return newPopulation"
   ]
  },
  {
   "cell_type": "markdown",
   "metadata": {},
   "source": [
    "#### Mutation function"
   ]
  },
  {
   "cell_type": "code",
   "execution_count": 8,
   "metadata": {},
   "outputs": [],
   "source": [
    "def randomMutation(Pm, populationList): # Random 100%.\n",
    "    # Obtener el tamaño de la población.\n",
    "    N = len(populationList)\n",
    "    \n",
    "    for i in range(N):\n",
    "        # Generar un número random entre 0 y 1.\n",
    "        r = np.random.uniform(0, 1, 1)\n",
    "\n",
    "        # Si el número random es menor que la Pm.\n",
    "        if r < Pm:\n",
    "            # Seleccionar índice random.\n",
    "            random_index = random.randint(0, len(populationList[i])-1)\n",
    "            \n",
    "            # Seleccionar posición random.\n",
    "            random_position = random.randint(0, len(populationList[i])-1)\n",
    "            \n",
    "            # Intercambio.\n",
    "            populationList[i,random_index] = random_position\n",
    "            \n",
    "    return populationList"
   ]
  },
  {
   "cell_type": "markdown",
   "metadata": {},
   "source": [
    "#### Elite functions"
   ]
  },
  {
   "cell_type": "code",
   "execution_count": 9,
   "metadata": {},
   "outputs": [],
   "source": [
    "def getElite(populationFitness):\n",
    "    # Obtener el tamaño de la población.\n",
    "    N = len(populationFitness)\n",
    "    \n",
    "    # Obtener el índice del mejor.\n",
    "    index = np.argmax(populationFitness)\n",
    "            \n",
    "    return index"
   ]
  },
  {
   "cell_type": "markdown",
   "metadata": {},
   "source": [
    "#### Main function"
   ]
  },
  {
   "cell_type": "code",
   "execution_count": 10,
   "metadata": {},
   "outputs": [],
   "source": [
    "def geneticAlgorithm(N, G, Pr, Pm):\n",
    "    # Número de reinas.\n",
    "    n_queens = 8\n",
    "    \n",
    "    # Cargar imágenes.\n",
    "    chess_table_img = Image.open(r\"Datasets/Chess.jpg\")\n",
    "    queen_img = Image.open(r\"Datasets/Queen.png\")\n",
    "\n",
    "    # Redimensionar imagen de la reina.\n",
    "    new_size = (100, 100)\n",
    "    queen_img = queen_img.resize(new_size)\n",
    "    \n",
    "    # 'Listas' a utilizar.\n",
    "    populationList = np.empty((N, n_queens), dtype=int) # Lista de la población.\n",
    "    populationFitness = np.zeros(N) # Lista de las aptitudes de la población.\n",
    "        \n",
    "    # Crear la población inicial.\n",
    "    for i in range(N):\n",
    "        # Obtener individuo.\n",
    "        populationList[i] = getRandomizeElement()\n",
    "        \n",
    "        # Calcular la aptitud del individuo i.\n",
    "        populationFitness[i] = objectiveFunction(populationList[i])\n",
    "        \n",
    "    # Obtener el elite.\n",
    "    eliteIndex = getElite(populationFitness)\n",
    "    elite = [ populationList[eliteIndex], populationFitness[eliteIndex] ]\n",
    "    \n",
    "    # Elite previo.\n",
    "    prevElite = elite\n",
    "    \n",
    "    # Generaciones.\n",
    "    genIter = 0\n",
    "    while genIter < G:\n",
    "        # Aplicar crossover\n",
    "        k = 5\n",
    "        populationList = simpleCrossover(Pr, k, populationList.copy(), populationFitness.copy())\n",
    "        # populationList = partialCrossover(Pr, k, populationList.copy(), populationFitness.copy())\n",
    "\n",
    "        # Aplicar mutación.\n",
    "        populationList = randomMutation(Pm, populationList.copy())\n",
    "        \n",
    "        # print(populationList)\n",
    "        \n",
    "        # Calcular la aptitud de la población.\n",
    "        for i in range(N):\n",
    "            populationFitness[i] = objectiveFunction(populationList[i])\n",
    "            \n",
    "        # Obtener el elite.\n",
    "        eliteIndex = getElite(populationFitness)\n",
    "        elite = [ populationList[eliteIndex], populationFitness[eliteIndex] ]\n",
    "        \n",
    "        # Si el elite actual es mejor que el global.\n",
    "        if elite[1] > prevElite[1]:\n",
    "#             # Mostrar solución.\n",
    "#             print(\"Gen: \" + str(genIter))\n",
    "#             plotSolution(elite, chess_table_img.copy(), queen_img)\n",
    "            \n",
    "            # Cambiar al mejor elite global.\n",
    "            prevElite = elite\n",
    "            \n",
    "            # Si el fitness del mejor elite global obtuvo puntaje perfecto. \n",
    "            if prevElite[1] == 100:\n",
    "                # Mostrar solución.\n",
    "                print(\"Gen: \" + str(genIter))\n",
    "                plotSolution(prevElite, chess_table_img.copy(), queen_img)\n",
    "                return elite\n",
    "            \n",
    "        # Aumentar iterador.\n",
    "        genIter += 1\n",
    "    \n",
    "    # Mostrar solución.\n",
    "    print(\"Gen: \" + str(genIter))\n",
    "    plotSolution(prevElite, chess_table_img.copy(), queen_img)\n",
    "            \n",
    "    return elite"
   ]
  },
  {
   "cell_type": "markdown",
   "metadata": {},
   "source": [
    "### <br><br><br><br>Plot solution function"
   ]
  },
  {
   "cell_type": "code",
   "execution_count": 11,
   "metadata": {},
   "outputs": [],
   "source": [
    "def plotSolution(solution, chess_table_img, queen_img):\n",
    "    # Número de reinas.\n",
    "    n_queens = 8\n",
    "    \n",
    "    # Para cada reina.\n",
    "    for i in range(n_queens):\n",
    "        # Obtener posiciones en 'x' y en 'y' de la reina para plotearla en la imagen.\n",
    "        x = i * 100\n",
    "        y = solution[0][i] * 100\n",
    "        \n",
    "        # Superponer imagen.\n",
    "        chess_table_img.paste(queen_img, (x,y), mask = queen_img)\n",
    "        \n",
    "    # Mostrar imagen.\n",
    "    plt.figure(figsize=(15,5))\n",
    "    ax = plt.gca() # Obtener ejes.\n",
    "    ax.get_xaxis().set_visible(False) # Ocultar eje 'x'.\n",
    "    ax.get_yaxis().set_visible(False) # Ocultar eje 'y'.\n",
    "\n",
    "    plt.imshow(chess_table_img, cmap=\"gray\")\n",
    "    if solution[1] == 100:\n",
    "        plt.title(\"Solution: \" + str(solution[0]) + \", Fitness: \" + str(solution[1]) + \", SOLUTION FOUND\")\n",
    "    else:\n",
    "        plt.title(\"Solution: \" + str(solution[0]) + \", Fitness: \" + str(solution[1]) + \", SOLUTION NOT FOUND\")\n",
    "    plt.show()"
   ]
  },
  {
   "cell_type": "markdown",
   "metadata": {},
   "source": [
    "## <br><br><br><br><br><br><br><br>==================== Main ===================="
   ]
  },
  {
   "cell_type": "markdown",
   "metadata": {},
   "source": [
    "### Resolve"
   ]
  },
  {
   "cell_type": "code",
   "execution_count": 12,
   "metadata": {
    "scrolled": true
   },
   "outputs": [
    {
     "name": "stdout",
     "output_type": "stream",
     "text": [
      "Gen: 36\n"
     ]
    },
    {
     "data": {
      "image/png": "[encoded data removed]",
      "text/plain": [
       "<Figure size 1080x360 with 1 Axes>"
      ]
     },
     "metadata": {
      "needs_background": "light"
     },
     "output_type": "display_data"
    }
   ],
   "source": [
    "# Variables a utilizar.\n",
    "N = 30\n",
    "G = 2000\n",
    "Pr = 0.8\n",
    "Pm = 0.3\n",
    "\n",
    "# Llamar función del algoritmo genético.\n",
    "elite = geneticAlgorithm(N, G, Pr, Pm)"
   ]
  }
 ],
 "metadata": {
  "kernelspec": {
   "display_name": "Python 3",
   "language": "python",
   "name": "python3"
  },
  "language_info": {
   "codemirror_mode": {
    "name": "ipython",
    "version": 3
   },
   "file_extension": ".py",
   "mimetype": "text/x-python",
   "name": "python",
   "nbconvert_exporter": "python",
   "pygments_lexer": "ipython3",
   "version": "3.8.3"
  }
 },
 "nbformat": 4,
 "nbformat_minor": 4
}
