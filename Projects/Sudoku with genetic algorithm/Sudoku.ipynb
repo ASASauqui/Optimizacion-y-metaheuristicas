{
 "cells": [
  {
   "cell_type": "markdown",
   "metadata": {},
   "source": [
    "## ==================== Libraries ===================="
   ]
  },
  {
   "cell_type": "code",
   "execution_count": 1,
   "metadata": {},
   "outputs": [],
   "source": [
    "# Determinadas\n",
    "import pandas\n",
    "import numpy as np\n",
    "import matplotlib.pyplot as plt\n",
    "import math\n",
    "import random\n",
    "\n",
    "# Procesamiento de imágenes\n",
    "from PIL import Image"
   ]
  },
  {
   "cell_type": "markdown",
   "metadata": {},
   "source": [
    "### Global Variables"
   ]
  },
  {
   "cell_type": "code",
   "execution_count": 2,
   "metadata": {},
   "outputs": [],
   "source": [
    "cont_call_fo = 0"
   ]
  },
  {
   "cell_type": "markdown",
   "metadata": {},
   "source": [
    "## <br><br><br>==================== Functions ===================="
   ]
  },
  {
   "cell_type": "markdown",
   "metadata": {},
   "source": [
    "### Objective Function"
   ]
  },
  {
   "cell_type": "code",
   "execution_count": 3,
   "metadata": {},
   "outputs": [],
   "source": [
    "def objectiveFunction(sudoku): # 100 fitness máximo\n",
    "    # Aumentar contador.\n",
    "    global cont_call_fo\n",
    "    cont_call_fo +=1\n",
    "    \n",
    "    # Variable de fitness.\n",
    "    fitness = 100\n",
    "    \n",
    "    # Filas y columnas.\n",
    "    for i in range(9):\n",
    "        # Obtener fila.\n",
    "        row = sudoku[i,:]\n",
    "        \n",
    "        # Obtener columna.\n",
    "        col = sudoku[:,i]\n",
    "        \n",
    "        # Duplicados de las filas.\n",
    "        duplicates = [x for x in row if list(row).count(x) > 1]\n",
    "        row_duplicates = list(set(duplicates))\n",
    "        \n",
    "        # Duplicados de las columnas.\n",
    "        duplicates = [x for x in col if list(col).count(x) > 1]\n",
    "        col_duplicates = list(set(duplicates))\n",
    "        \n",
    "        # Bajar fitness.\n",
    "        if len(row_duplicates) > 0:\n",
    "            fitness -= len(row_duplicates)\n",
    "        if len(col_duplicates) > 0:\n",
    "            fitness -= len(col_duplicates)\n",
    "    \n",
    "    # Regiones.\n",
    "    for i in range(0,9,3):\n",
    "        for j in range(0,9,3):\n",
    "            # Obtener región del sudoku.\n",
    "            region = [sudoku[x][y] for x in range(i,i+3) for y in range(j,j+3)]\n",
    "            \n",
    "            # Duplicados de las filas.\n",
    "            duplicates = [x for x in region if list(region).count(x) > 1]\n",
    "            region_duplicates = list(set(duplicates))\n",
    "            \n",
    "            # Bajar fitness.\n",
    "            if len(region_duplicates) > 0:\n",
    "                fitness -= len(region_duplicates)\n",
    "    \n",
    "    return fitness"
   ]
  },
  {
   "cell_type": "markdown",
   "metadata": {},
   "source": [
    "### Check Repeated Numbers Function"
   ]
  },
  {
   "cell_type": "code",
   "execution_count": 4,
   "metadata": {},
   "outputs": [],
   "source": [
    "def checkRepeatedNumbers(sudoku):\n",
    "    # Filas.\n",
    "    for i in range(9):\n",
    "        # Obtener fila.\n",
    "        row = sudoku[i,:]\n",
    "        \n",
    "        # Obtener columna.\n",
    "        col = sudoku[:,i]\n",
    "        \n",
    "        # Duplicados de las filas.\n",
    "        duplicates = [x for x in row if list(row).count(x) > 1]\n",
    "        row_duplicates = list(set(duplicates))\n",
    "        \n",
    "        # Duplicados de las columnas.\n",
    "        duplicates = [x for x in col if list(col).count(x) > 1]\n",
    "        col_duplicates = list(set(duplicates))\n",
    "        \n",
    "        print(\"Row \" + str(i+1) + \": \" + str( row_duplicates ) )\n",
    "        print(\"Col \" + str(i+1) + \": \" + str( col_duplicates ) )\n",
    "        \n",
    "    # Regiones.\n",
    "    for i in range(0,9,3):\n",
    "        for j in range(0,9,3):\n",
    "            # Obtener región del sudoku.\n",
    "            region = [sudoku[x][y] for x in range(i,i+3) for y in range(j,j+3)]\n",
    "            \n",
    "            # Duplicados de las filas.\n",
    "            duplicates = [x for x in region if list(region).count(x) > 1]\n",
    "            region_duplicates = list(set(duplicates))\n",
    "              \n",
    "            print(\"Region (\" + str(i//3 + 1) + \",\" + str(j//3 + 1) + \"): \" + str( region_duplicates ) )"
   ]
  },
  {
   "cell_type": "markdown",
   "metadata": {},
   "source": [
    "### Random Element"
   ]
  },
  {
   "cell_type": "code",
   "execution_count": 5,
   "metadata": {},
   "outputs": [],
   "source": [
    "def getRandomizeElement(sudoku, padding_indexes):\n",
    "    # Copiar sudoku.\n",
    "    newSudoku = sudoku.copy()\n",
    "    \n",
    "    # Rango de valores.\n",
    "    values = range(1,10)\n",
    "    \n",
    "    for i in range(9):\n",
    "        # Obtener fila.\n",
    "        row = sudoku[i,:]\n",
    "        \n",
    "        # Obtener la diferencia simétrica (valores que faltan).\n",
    "        padding_values = np.setdiff1d(values, row)\n",
    "        \n",
    "        # Permutar valores.\n",
    "        padding_values = np.random.permutation(padding_values)\n",
    "        \n",
    "        # Añadir valores.\n",
    "        newSudoku[i,padding_indexes[i]] = padding_values\n",
    "        \n",
    "    return newSudoku"
   ]
  },
  {
   "cell_type": "code",
   "execution_count": 6,
   "metadata": {},
   "outputs": [],
   "source": [
    "# def getRandomizeElement(sudoku, padding_indexes):\n",
    "#     # Copiar sudoku.\n",
    "#     newSudoku = sudoku.copy()\n",
    "    \n",
    "#     # Rango de valores.\n",
    "#     values = range(1,10)\n",
    "    \n",
    "#     for i in range(9):\n",
    "#         # Añadir valores.\n",
    "#         newSudoku[i,padding_indexes[i]] = np.random.choice(range(1,10), len(padding_indexes[i]), replace=True)\n",
    "        \n",
    "#     return newSudoku"
   ]
  },
  {
   "cell_type": "markdown",
   "metadata": {},
   "source": [
    "### <br><br><br><br>Genetic Algorithm"
   ]
  },
  {
   "cell_type": "markdown",
   "metadata": {},
   "source": [
    "#### Selection functions"
   ]
  },
  {
   "cell_type": "code",
   "execution_count": 7,
   "metadata": {},
   "outputs": [],
   "source": [
    "def parentsSelectionByTournament(k, populationFitness):\n",
    "    # Obtener el tamaño de la población.\n",
    "    N = len(populationFitness)\n",
    "    \n",
    "    # Matriz para guardar la población del torneo.\n",
    "    newPopulation = np.zeros(k, dtype=int)\n",
    "\n",
    "    # Rellenar matriz con nuevos individuos.\n",
    "    for i in range(k):\n",
    "        while True:\n",
    "            # Generar número random.\n",
    "            r = random.randint(0, N-1)\n",
    "            \n",
    "            # Si todavía no ha sido seleccionado dicho individuo.\n",
    "            if r not in newPopulation:\n",
    "                # Agregar individuo.\n",
    "                newPopulation[i] = r\n",
    "\n",
    "                break\n",
    "        \n",
    "    # El mejor individuo.\n",
    "    fittestIndividual = newPopulation[ np.argmax(populationFitness[newPopulation]) ]\n",
    "    \n",
    "    return fittestIndividual"
   ]
  },
  {
   "cell_type": "code",
   "execution_count": 8,
   "metadata": {},
   "outputs": [],
   "source": [
    "def parentsSelectionByRoulette(k, populationFitness):\n",
    "    # Obtener el tamaño de la población.\n",
    "    N = len(populationFitness)\n",
    "    \n",
    "    # Lista para guardar las proporciones de cada individuo.\n",
    "    proportionsRange = np.zeros((N,2))\n",
    "    \n",
    "    # Total suma de fitness.\n",
    "    totalFitness = np.sum(populationFitness)\n",
    "        \n",
    "    # Calcular ruleta.\n",
    "    roulette = np.cumsum(populationFitness / totalFitness)\n",
    "\n",
    "    # Matriz para guardar la población de la ruleta.\n",
    "    newPopulation = np.zeros(k, dtype=int)\n",
    "    \n",
    "    # Rellenar \n",
    "    for i in range(k):\n",
    "        while True:\n",
    "            # Generar un número random entre 0 y 1.\n",
    "            randomNumber = np.random.uniform(0, 1, 1)\n",
    "\n",
    "            # Checar qué rango es.\n",
    "            j = 0\n",
    "            while roulette[j] < randomNumber:\n",
    "                j += 1\n",
    "                \n",
    "            # Si todavía no ha sido seleccionado dicho individuo.\n",
    "            if j not in newPopulation:\n",
    "                # Agregar individuo.\n",
    "                newPopulation[i] = j\n",
    "\n",
    "                break\n",
    "                    \n",
    "    # El mejor individuo.\n",
    "    fittestIndividual = newPopulation[ np.argmax(populationFitness[newPopulation]) ]\n",
    "    \n",
    "    return fittestIndividual"
   ]
  },
  {
   "cell_type": "markdown",
   "metadata": {},
   "source": [
    "#### Crossover functions"
   ]
  },
  {
   "cell_type": "code",
   "execution_count": 9,
   "metadata": {},
   "outputs": [],
   "source": [
    "def simpleCrossover(Pr, k, populationList, populationFitness):\n",
    "    # Obtener el tamaño de la población.\n",
    "    N = len(populationList)\n",
    "    \n",
    "    # Matriz para guardar la nueva población.\n",
    "    newPopulation = np.zeros_like(populationList)\n",
    "    \n",
    "    for i in range(N):\n",
    "        # Generar un número random entre 0 y 1.\n",
    "        r = np.random.uniform(0, 1, 1)\n",
    "        \n",
    "        # Si el número random es menor que la Pr.\n",
    "        if r < Pr:\n",
    "            # Seleccionar padres.\n",
    "            parent1 = populationList[ parentsSelectionByTournament(k, populationFitness) ]\n",
    "            parent2 = populationList[ parentsSelectionByTournament(k, populationFitness) ]\n",
    "            # parent1 = populationList[ parentsSelectionByRoulette(k, populationFitness) ]\n",
    "            # parent2 = populationList[ parentsSelectionByRoulette(k, populationFitness) ]\n",
    "            \n",
    "            # Dividir en partes a los papás.\n",
    "            part1 = parent1[:len(parent1)//2]\n",
    "            part2 = parent2[len(parent2)//2:]\n",
    "            \n",
    "            # Obtener al hijo.\n",
    "            offspring = np.concatenate((part1,part2), axis=0)\n",
    "                   \n",
    "            # Agregar a la población.      \n",
    "            newPopulation[i] = offspring\n",
    "        else:\n",
    "            # Seleccionar padre.\n",
    "            parent = populationList[ parentsSelectionByTournament(k, populationFitness) ]\n",
    "            # parent = populationList[ parentsSelectionByRoulette(k, populationFitness) ]\n",
    "            \n",
    "            # Agregar a la población.      \n",
    "            newPopulation[i] = parent\n",
    "        \n",
    "    return newPopulation"
   ]
  },
  {
   "cell_type": "code",
   "execution_count": 10,
   "metadata": {},
   "outputs": [],
   "source": [
    "def partialCrossover(Pr, k, populationList, populationFitness):\n",
    "    # Obtener el tamaña de la población.\n",
    "    N = len(populationList)\n",
    "    \n",
    "    # Matriz para guardar la nueva población.\n",
    "    newPopulation = np.zeros_like(populationList)\n",
    "    \n",
    "    for i in range(N):\n",
    "        # Generar un número random entre 0 y 1.\n",
    "        r = np.random.uniform(0, 1, 1)\n",
    "        \n",
    "        # Si el número random es menor que la Pr.\n",
    "        if r < Pr:\n",
    "            # Seleccionar padres.\n",
    "            parent1 = populationList[ parentsSelectionByTournament(k, populationFitness) ]\n",
    "            parent2 = populationList[ parentsSelectionByTournament(k, populationFitness) ]\n",
    "            # parent1 = populationList[ parentsSelectionByRoulette(k, populationFitness) ]\n",
    "            # parent2 = populationList[ parentsSelectionByRoulette(k, populationFitness) ]\n",
    "            \n",
    "            # Obtener la división\n",
    "            exactDivision = len(parent1)//3\n",
    "            \n",
    "            # Dividir en partes a los papás.\n",
    "            part1 = parent2[:exactDivision]\n",
    "            part2 = parent1[exactDivision:exactDivision*2]\n",
    "            part3 = parent2[exactDivision*2:]\n",
    "            \n",
    "            # Obtener al hijo.\n",
    "            offspring = np.concatenate((part1,part2,part3), axis=0)\n",
    "                            \n",
    "            # Agregar a la población.      \n",
    "            newPopulation[i] = offspring\n",
    "        else:\n",
    "            # Seleccionar padre.\n",
    "            parent = populationList[ parentsSelectionByTournament(k, populationFitness) ]\n",
    "            # parent = populationList[ parentsSelectionByRoulette(k, populationFitness) ]\n",
    "\n",
    "            # Agregar a la población.      \n",
    "            newPopulation[i] = parent\n",
    "    \n",
    "    return newPopulation"
   ]
  },
  {
   "cell_type": "markdown",
   "metadata": {},
   "source": [
    "#### Mutation function"
   ]
  },
  {
   "cell_type": "code",
   "execution_count": 11,
   "metadata": {},
   "outputs": [],
   "source": [
    "def randomMutation(Pm, populationList, padding_indexes):\n",
    "    # Obtener el tamaño de la población.\n",
    "    N = len(populationList)\n",
    "    \n",
    "    for i in range(N):\n",
    "        # Generar un número random entre 0 y 1.\n",
    "        r = np.random.uniform(0, 1, 1)\n",
    "\n",
    "        # Si el número random es menor que la Pm.\n",
    "        if r < Pm:\n",
    "            # Número random a poner.\n",
    "            random_number = random.randint(1, 9)\n",
    "            \n",
    "            # Seleccionar índice random de fila.\n",
    "            random_row_index = random.randint(0, 9-1)\n",
    "            \n",
    "            # Seleccionar índice random de columnas.\n",
    "            random_col_index = np.random.choice(padding_indexes[random_row_index], 1)\n",
    "            \n",
    "            # Colocar número random.\n",
    "            populationList[i, random_row_index, random_col_index[0]] = random_number\n",
    "            \n",
    "    return populationList"
   ]
  },
  {
   "cell_type": "code",
   "execution_count": 12,
   "metadata": {},
   "outputs": [],
   "source": [
    "def swapMutation(Pm, populationList, padding_indexes):\n",
    "    # Obtener el tamaño de la población.\n",
    "    N = len(populationList)\n",
    "    \n",
    "    for i in range(N):\n",
    "        # Generar un número random entre 0 y 1.\n",
    "        r = np.random.uniform(0, 1, 1)\n",
    "\n",
    "        # Si el número random es menor que la Pm.\n",
    "        if r < Pm:\n",
    "            # Seleccionar índice random de fila.\n",
    "            random_row_index = random.randint(0, 9-1)\n",
    "            \n",
    "            # Seleccionar índices random de columnas.\n",
    "            random_col_indexes = np.random.choice(padding_indexes[random_row_index], 2, replace=False)\n",
    "            \n",
    "            # Swap.\n",
    "            aux = populationList[i, random_row_index, random_col_indexes[0]]\n",
    "            populationList[i, random_row_index, random_col_indexes[0]] = populationList[i, random_row_index, random_col_indexes[1]]\n",
    "            populationList[i, random_row_index, random_col_indexes[1]] = aux\n",
    "            \n",
    "    return populationList"
   ]
  },
  {
   "cell_type": "markdown",
   "metadata": {},
   "source": [
    "#### Elite functions"
   ]
  },
  {
   "cell_type": "code",
   "execution_count": 13,
   "metadata": {},
   "outputs": [],
   "source": [
    "def getElite(populationFitness):\n",
    "    # Obtener el tamaño de la población.\n",
    "    N = len(populationFitness)\n",
    "    \n",
    "    # Obtener el índice del mejor.\n",
    "    index = np.argmax(populationFitness)\n",
    "            \n",
    "    return index"
   ]
  },
  {
   "cell_type": "markdown",
   "metadata": {},
   "source": [
    "#### Main function"
   ]
  },
  {
   "cell_type": "code",
   "execution_count": 14,
   "metadata": {},
   "outputs": [],
   "source": [
    "def geneticAlgorithm(N, G, Pr, Pm, sudoku):\n",
    "    # Lista de índices por rellenar en el sudoku.\n",
    "    padding_indexes = []\n",
    "    \n",
    "    # Obtener índices por rellenar en el sudoku.\n",
    "    for i in range(9):\n",
    "        # Obtener la fila.\n",
    "        row = sudoku[i,:]\n",
    "\n",
    "        # Obtener índices de valores que faltan por rellenar.\n",
    "        row_indexes = np.where(row == 0)[0]\n",
    "        \n",
    "        # Añadir a la lista.\n",
    "        padding_indexes.append(row_indexes)\n",
    "            \n",
    "    # 'Listas' a utilizar.\n",
    "    populationList = np.zeros((N, 9,9), dtype=int) # Lista de la población.\n",
    "    populationFitness = np.zeros(N) # Lista de las aptitudes de la población.\n",
    "        \n",
    "    # Crear la población inicial.\n",
    "    for i in range(N):\n",
    "        # Obtener individuo.\n",
    "        populationList[i] = getRandomizeElement(sudoku, padding_indexes)\n",
    "        \n",
    "        # Calcular la aptitud del individuo i.\n",
    "        populationFitness[i] = objectiveFunction(populationList[i])\n",
    "        \n",
    "    # Obtener el elite.\n",
    "    eliteIndex = getElite(populationFitness)\n",
    "    elite = [ populationList[eliteIndex], populationFitness[eliteIndex] ]\n",
    "    \n",
    "    # Elite previo.\n",
    "    prevElite = elite\n",
    "    \n",
    "    # Generaciones.\n",
    "    genIter = 0\n",
    "    while genIter < G:\n",
    "        # Aplicar crossover\n",
    "        k = 5\n",
    "        # populationList = simpleCrossover(Pr, k, populationList.copy(), populationFitness.copy())\n",
    "        populationList = partialCrossover(Pr, k, populationList.copy(), populationFitness.copy())\n",
    "\n",
    "        # Aplicar mutación.\n",
    "#         populationList = randomMutation(Pm, populationList.copy(), padding_indexes)\n",
    "        populationList = swapMutation(Pm, populationList.copy(), padding_indexes)\n",
    "        \n",
    "        # Calcular la aptitud de la población.\n",
    "        for i in range(N):\n",
    "            populationFitness[i] = objectiveFunction(populationList[i])\n",
    "            \n",
    "        # Obtener el elite.\n",
    "        eliteIndex = getElite(populationFitness)\n",
    "        elite = [ populationList[eliteIndex], populationFitness[eliteIndex] ]\n",
    "        \n",
    "#         print(\"Gen\", genIter, \"\\n\", elite[0], elite[1], \"\\n\")\n",
    "        # Si el elite actual es mejor que el global.\n",
    "        if elite[1] > prevElite[1]:\n",
    "            # Cambiar al mejor elite global.\n",
    "            prevElite = elite\n",
    "            \n",
    "            print(\"Gen:\" + str(genIter) + \", Mejora: \" + str(prevElite[1]))\n",
    "            \n",
    "            # Si el fitness del mejor elite global obtuvo puntaje perfecto. \n",
    "            if prevElite[1] == 100:\n",
    "#                 print(\"Gen:\" + str(genIter) + \", Mejora: \" + str(prevElite[1]))\n",
    "                return prevElite\n",
    "            \n",
    "        # Aumentar iterador.\n",
    "        genIter += 1\n",
    "            \n",
    "    print(\"Gen:\" + str(genIter) + \", Mejora: \" + str(prevElite[1]))\n",
    "    return prevElite"
   ]
  },
  {
   "cell_type": "markdown",
   "metadata": {},
   "source": [
    "### <br><br><br><br>Plot solution function"
   ]
  },
  {
   "cell_type": "code",
   "execution_count": 15,
   "metadata": {},
   "outputs": [],
   "source": [
    "def plotSolution(solution, fixed_values):\n",
    "    # Cargar imagen.\n",
    "    sudoku_scheme = Image.open(r\"Datasets/Sudoku_Scheme.jpg\")\n",
    "        \n",
    "    # Mostrar imagen.\n",
    "    plt.figure(figsize=(15,5))\n",
    "    \n",
    "    # Colocar números.\n",
    "    for i in range(9):\n",
    "        for j in range(9):\n",
    "            # Obtener posiciones en 'x' y en 'y'.\n",
    "            x = j * 90 + 80\n",
    "            y = i * 90 + 90\n",
    "\n",
    "            if fixed_values[i,j] == 0:\n",
    "                plt.text(x,y,str(solution[0][i,j]), fontsize=\"x-large\", color=\"blue\")\n",
    "            else:\n",
    "                plt.text(x,y,str(fixed_values[i][j]), fontsize=\"x-large\", color=\"black\")\n",
    "    \n",
    "    ax = plt.gca() # Obtener ejes.\n",
    "    ax.get_xaxis().set_visible(False) # Ocultar eje 'x'.\n",
    "    ax.get_yaxis().set_visible(False) # Ocultar eje 'y'.\n",
    "\n",
    "    plt.imshow(sudoku_scheme, cmap=\"gray\") # Mostrar imagen.\n",
    "    \n",
    "    # Título de la imagen según sea el fitness.\n",
    "    if solution[1] == 100:\n",
    "        plt.title(\"Fitness: \" + str(solution[1]) + \", SOLUTION FOUND\")\n",
    "    else:\n",
    "        plt.title(\"Fitness: \" + str(solution[1]) + \", SOLUTION NOT FOUND\")\n",
    "    plt.show()"
   ]
  },
  {
   "cell_type": "markdown",
   "metadata": {},
   "source": [
    "## <br><br><br><br><br><br><br><br>==================== Main ===================="
   ]
  },
  {
   "cell_type": "markdown",
   "metadata": {},
   "source": [
    "### Load dataset"
   ]
  },
  {
   "cell_type": "code",
   "execution_count": 30,
   "metadata": {},
   "outputs": [
    {
     "name": "stdout",
     "output_type": "stream",
     "text": [
      "[[0 0 0 0 0 0 0 0 8]\n",
      " [0 0 0 3 9 0 0 4 1]\n",
      " [0 4 0 5 0 0 0 0 0]\n",
      " [1 0 4 9 8 5 0 0 3]\n",
      " [8 0 0 0 2 0 1 0 0]\n",
      " [2 0 0 6 1 0 8 0 4]\n",
      " [4 8 7 0 5 0 3 0 6]\n",
      " [3 0 0 0 0 0 0 0 9]\n",
      " [0 2 0 1 0 0 0 0 7]]\n"
     ]
    }
   ],
   "source": [
    "# Dirección del dataset.\n",
    "path = 'Datasets/Sudoku_1.csv'\n",
    "\n",
    "# Leer documento .csv.\n",
    "sudoku = pandas.read_csv(path).values\n",
    "\n",
    "# Sudoku a np array.\n",
    "sudoku = np.asarray(sudoku)\n",
    "\n",
    "# Impresión de datos.\n",
    "print(sudoku)"
   ]
  },
  {
   "cell_type": "markdown",
   "metadata": {},
   "source": [
    "### Resolve"
   ]
  },
  {
   "cell_type": "code",
   "execution_count": 31,
   "metadata": {
    "scrolled": true
   },
   "outputs": [
    {
     "name": "stdout",
     "output_type": "stream",
     "text": [
      "Gen:0, Mejora: 74.0\n",
      "Gen:1, Mejora: 76.0\n",
      "Gen:4, Mejora: 77.0\n",
      "Gen:5, Mejora: 78.0\n",
      "Gen:6, Mejora: 79.0\n",
      "Gen:8, Mejora: 80.0\n",
      "Gen:10, Mejora: 81.0\n",
      "Gen:12, Mejora: 84.0\n",
      "Gen:14, Mejora: 86.0\n",
      "Gen:17, Mejora: 88.0\n",
      "Gen:18, Mejora: 90.0\n",
      "Gen:24, Mejora: 92.0\n",
      "Gen:27, Mejora: 94.0\n",
      "Gen:32, Mejora: 95.0\n",
      "Gen:35, Mejora: 96.0\n",
      "Gen:50, Mejora: 98.0\n",
      "Gen:70, Mejora: 100.0\n"
     ]
    }
   ],
   "source": [
    "# Variables a utilizar.\n",
    "N = 200\n",
    "G = 1000\n",
    "Pr = 0.8\n",
    "Pm = 0.3\n",
    "cont_call_fo = 0\n",
    "    \n",
    "# Llamar función del algoritmo genético.\n",
    "elite = geneticAlgorithm(N, G, Pr, Pm, sudoku)"
   ]
  },
  {
   "cell_type": "markdown",
   "metadata": {},
   "source": [
    "### Show results"
   ]
  },
  {
   "cell_type": "code",
   "execution_count": 32,
   "metadata": {},
   "outputs": [
    {
     "data": {
      "image/png": "[encoded data removed]",
      "text/plain": [
       "<Figure size 1080x360 with 1 Axes>"
      ]
     },
     "metadata": {
      "needs_background": "light"
     },
     "output_type": "display_data"
    },
    {
     "name": "stdout",
     "output_type": "stream",
     "text": [
      "Se llamó a la función objetivo un total de: 14400\n"
     ]
    }
   ],
   "source": [
    "# Plotear solución.\n",
    "plotSolution(elite.copy(), sudoku.copy())\n",
    "\n",
    "# Imprimir la cantidad de veces que fue llamada la función objetivo.\n",
    "print(\"Se llamó a la función objetivo un total de: \" + str(cont_call_fo))"
   ]
  },
  {
   "cell_type": "code",
   "execution_count": 33,
   "metadata": {},
   "outputs": [
    {
     "name": "stdout",
     "output_type": "stream",
     "text": [
      "Row 1: []\n",
      "Col 1: []\n",
      "Row 2: []\n",
      "Col 2: []\n",
      "Row 3: []\n",
      "Col 3: []\n",
      "Row 4: []\n",
      "Col 4: []\n",
      "Row 5: []\n",
      "Col 5: []\n",
      "Row 6: []\n",
      "Col 6: []\n",
      "Row 7: []\n",
      "Col 7: []\n",
      "Row 8: []\n",
      "Col 8: []\n",
      "Row 9: []\n",
      "Col 9: []\n",
      "Region (1,1): []\n",
      "Region (1,2): []\n",
      "Region (1,3): []\n",
      "Region (2,1): []\n",
      "Region (2,2): []\n",
      "Region (2,3): []\n",
      "Region (3,1): []\n",
      "Region (3,2): []\n",
      "Region (3,3): []\n"
     ]
    }
   ],
   "source": [
    "# Checar dónde hay valores repetidos y cuáles son.\n",
    "checkRepeatedNumbers(elite[0])"
   ]
  }
 ],
 "metadata": {
  "kernelspec": {
   "display_name": "Python 3",
   "language": "python",
   "name": "python3"
  },
  "language_info": {
   "codemirror_mode": {
    "name": "ipython",
    "version": 3
   },
   "file_extension": ".py",
   "mimetype": "text/x-python",
   "name": "python",
   "nbconvert_exporter": "python",
   "pygments_lexer": "ipython3",
   "version": "3.8.3"
  }
 },
 "nbformat": 4,
 "nbformat_minor": 4
}
