{
 "cells": [
  {
   "cell_type": "markdown",
   "metadata": {},
   "source": [
    "## ==================== Libraries ===================="
   ]
  },
  {
   "cell_type": "code",
   "execution_count": 1,
   "metadata": {},
   "outputs": [],
   "source": [
    "# Determinadas.\n",
    "import numpy as np\n",
    "\n",
    "# Scipy.\n",
    "from scipy.optimize import linprog\n",
    "\n",
    "# Importar algoritmo de particle swarm.\n",
    "from particle_swarm_optimization import particle_swarm"
   ]
  },
  {
   "cell_type": "code",
   "execution_count": 2,
   "metadata": {},
   "outputs": [],
   "source": [
    "# Suprimir notación científica.\n",
    "np.set_printoptions(suppress=True)"
   ]
  },
  {
   "cell_type": "markdown",
   "metadata": {},
   "source": [
    "### <br><br><br><br>Problem 1\n",
    "\n",
    "$$ Max 20000p + 15000m $$\n",
    "$$ S.A. $$\n",
    "$$ p + 2m <= 80 $$\n",
    "$$ 3p + 2m <= 120 $$\n",
    "$$ p,m >= 0 $$"
   ]
  },
  {
   "cell_type": "markdown",
   "metadata": {},
   "source": [
    "#### Scipy solution"
   ]
  },
  {
   "cell_type": "code",
   "execution_count": 3,
   "metadata": {},
   "outputs": [
    {
     "data": {
      "text/plain": [
       "     con: array([], dtype=float64)\n",
       "     fun: -849999.9999068022\n",
       " message: 'Optimization terminated successfully.'\n",
       "     nit: 6\n",
       "   slack: array([0.00000001, 0.00000001])\n",
       "  status: 0\n",
       " success: True\n",
       "       x: array([20., 30.])"
      ]
     },
     "execution_count": 3,
     "metadata": {},
     "output_type": "execute_result"
    }
   ],
   "source": [
    "A_ub = [[1,2],\n",
    "        [3,2]]\n",
    "b_ub = [80,120]\n",
    "bounds = [[0,500],\n",
    "          [0,500]]\n",
    "c = [-20000,-15000]\n",
    "\n",
    "linprog(c, A_ub=A_ub, b_ub=b_ub, A_eq=None, b_eq=None,bounds=bounds)"
   ]
  },
  {
   "cell_type": "markdown",
   "metadata": {},
   "source": [
    "#### Own solution"
   ]
  },
  {
   "cell_type": "code",
   "execution_count": 4,
   "metadata": {},
   "outputs": [],
   "source": [
    "def objectiveFunction1(P):\n",
    "    # Obtener resultado.\n",
    "    res = -20000*P[0] - 15000*P[1]\n",
    "    \n",
    "    return res"
   ]
  },
  {
   "cell_type": "code",
   "execution_count": 7,
   "metadata": {},
   "outputs": [],
   "source": [
    "def funcFeasible1(P, A_ub, b_ub, A_eq, b_eq, bounds):\n",
    "    # Arreglo de resultados de los constraints.\n",
    "    constraint_results = np.zeros((2), dtype=float)\n",
    "    \n",
    "    # Obtener resultados de las restricciones.\n",
    "    for i in range(2):\n",
    "        constraint_results[i] = np.dot(A_ub[i], P)\n",
    "        \n",
    "        # Verificar restricciones.\n",
    "        if constraint_results[i] > b_ub[i]:\n",
    "            return False\n",
    "        \n",
    "    # Verificar restricciones de la variable.\n",
    "    for i in range(2):\n",
    "        if P[i] < bounds[i,0]:\n",
    "            return False\n",
    "        elif P[i] > bounds[i,1]:\n",
    "            return False\n",
    "\n",
    "    return True"
   ]
  },
  {
   "cell_type": "code",
   "execution_count": 8,
   "metadata": {},
   "outputs": [
    {
     "name": "stdout",
     "output_type": "stream",
     "text": [
      "{'fun': array(-849951.25887599), 'nit': 25, 'x': array([20.01774991, 29.97308404])}\n"
     ]
    }
   ],
   "source": [
    "res = particle_swarm(objectiveFunction1, funcFeasible1, A_ub, b_ub, None, None, bounds, N=100, MaxIter=25, c1=0.9, c2=0.9, w=0.9)\n",
    "print(res)"
   ]
  },
  {
   "cell_type": "markdown",
   "metadata": {},
   "source": [
    "### <br><br><br><br>Problem 2\n",
    "$$ Max 15L1 + 10L2 $$\n",
    "$$ S.A. $$\n",
    "$$ \\frac{1}{3}L1 + \\frac{1}{2}L2 <= 100 $$\n",
    "$$ \\frac{1}{6}L1 + \\frac{1}{6}L2 <= 80 $$\n",
    "$$ L1, L2 >= 0 $$"
   ]
  },
  {
   "cell_type": "markdown",
   "metadata": {},
   "source": [
    "#### Scipy solution"
   ]
  },
  {
   "cell_type": "code",
   "execution_count": 9,
   "metadata": {},
   "outputs": [
    {
     "data": {
      "text/plain": [
       "     con: array([], dtype=float64)\n",
       "     fun: -4499.99999986978\n",
       " message: 'Optimization terminated successfully.'\n",
       "     nit: 6\n",
       "   slack: array([ 0., 30.])\n",
       "  status: 0\n",
       " success: True\n",
       "       x: array([299.99999999,   0.        ])"
      ]
     },
     "execution_count": 9,
     "metadata": {},
     "output_type": "execute_result"
    }
   ],
   "source": [
    "A_ub = [[1/3,1/2],\n",
    "        [1/6,1/6]]\n",
    "b_ub = [100,80]\n",
    "bounds = [[0,500],\n",
    "          [0,500]]\n",
    "c = [-15,-10]\n",
    "\n",
    "linprog(c, A_ub=A_ub, b_ub=b_ub, A_eq=None, b_eq=None,bounds=bounds)"
   ]
  },
  {
   "cell_type": "markdown",
   "metadata": {},
   "source": [
    "#### Own solution"
   ]
  },
  {
   "cell_type": "code",
   "execution_count": 10,
   "metadata": {},
   "outputs": [],
   "source": [
    "def objectiveFunction2(P):\n",
    "    # Obtener resultado.\n",
    "    res = -15*P[0] -10*P[1]\n",
    "    \n",
    "    return res"
   ]
  },
  {
   "cell_type": "code",
   "execution_count": 11,
   "metadata": {},
   "outputs": [],
   "source": [
    "def funcFeasible2(P, A_ub, b_ub, A_eq, b_eq, bounds):\n",
    "    # Arreglo de resultados de los constraints.\n",
    "    constraint_results = np.zeros((2), dtype=float)\n",
    "    \n",
    "    # Obtener resultados de las restricciones.\n",
    "    for i in range(2):\n",
    "        constraint_results[i] = np.dot(A_ub[i], P)\n",
    "        \n",
    "        # Verificar restricciones.\n",
    "        if constraint_results[i] > b_ub[i]:\n",
    "            return False\n",
    "        \n",
    "    # Verificar restricciones de la variable.\n",
    "    for i in range(2):\n",
    "        if P[i] < bounds[i,0]:\n",
    "            return False\n",
    "        elif P[i] > bounds[i,1]:\n",
    "            return False\n",
    "\n",
    "    return True"
   ]
  },
  {
   "cell_type": "code",
   "execution_count": 12,
   "metadata": {},
   "outputs": [
    {
     "name": "stdout",
     "output_type": "stream",
     "text": [
      "{'fun': array(-4499.83978779), 'nit': 30, 'x': array([299.98077454,   0.01281697])}\n"
     ]
    }
   ],
   "source": [
    "res = particle_swarm(objectiveFunction2, funcFeasible2, A_ub, b_ub, None, None, bounds, N=100, MaxIter=30, c1=0.9, c2=0.9, w=0.9)\n",
    "print(res)"
   ]
  },
  {
   "cell_type": "markdown",
   "metadata": {},
   "source": [
    "### <br><br><br><br>Problem 3\n",
    "$$ Min 10X + 30Y $$\n",
    "$$ S.A. $$\n",
    "$$ X + 5Y >= 15 $$\n",
    "$$ 5X + Y >= 15 $$\n",
    "$$ X, Y >= 0 $$"
   ]
  },
  {
   "cell_type": "markdown",
   "metadata": {},
   "source": [
    "#### Scipy solution"
   ]
  },
  {
   "cell_type": "code",
   "execution_count": 13,
   "metadata": {},
   "outputs": [
    {
     "data": {
      "text/plain": [
       "     con: array([], dtype=float64)\n",
       "     fun: 99.99999999909414\n",
       " message: 'Optimization terminated successfully.'\n",
       "     nit: 4\n",
       "   slack: array([-0., -0.])\n",
       "  status: 0\n",
       " success: True\n",
       "       x: array([2.5, 2.5])"
      ]
     },
     "execution_count": 13,
     "metadata": {},
     "output_type": "execute_result"
    }
   ],
   "source": [
    "A_ub = [[-1,-5],\n",
    "     [-5,-1]]\n",
    "b_ub = [ -15,-15]\n",
    "bounds = [[0,None],\n",
    "          [0,None]]\n",
    "c = [10,30]\n",
    "\n",
    "linprog(c, A_ub=A_ub, b_ub=b_ub, A_eq=None, b_eq=None,bounds=bounds)"
   ]
  },
  {
   "cell_type": "markdown",
   "metadata": {},
   "source": [
    "#### Own solution"
   ]
  },
  {
   "cell_type": "code",
   "execution_count": 14,
   "metadata": {},
   "outputs": [],
   "source": [
    "def objectiveFunction3(P):\n",
    "    # Obtener resultado.\n",
    "    res = 10*P[0] + 30*P[1]\n",
    "    \n",
    "    return res"
   ]
  },
  {
   "cell_type": "code",
   "execution_count": 15,
   "metadata": {},
   "outputs": [],
   "source": [
    "def funcFeasible3(P, A_ub, b_ub, A_eq, b_eq, bounds):\n",
    "    # Arreglo de resultados de los constraints.\n",
    "    constraint_results = np.zeros((2), dtype=float)\n",
    "    \n",
    "    # Obtener resultados de las restricciones.\n",
    "    for i in range(2):\n",
    "        constraint_results[i] = np.dot(A_ub[i], P)\n",
    "        \n",
    "        # Verificar restricciones.\n",
    "        if constraint_results[i] > b_ub[i]:\n",
    "            return False\n",
    "        \n",
    "    # Verificar restricciones de la variable.\n",
    "    for i in range(2):\n",
    "        if P[i] < bounds[i,0]:\n",
    "            return False\n",
    "        elif P[i] > bounds[i,1]:\n",
    "            return False\n",
    "\n",
    "    return True"
   ]
  },
  {
   "cell_type": "code",
   "execution_count": 17,
   "metadata": {},
   "outputs": [
    {
     "name": "stdout",
     "output_type": "stream",
     "text": [
      "{'fun': array(100.00132119), 'nit': 100, 'x': array([2.50022132, 2.49997027])}\n"
     ]
    }
   ],
   "source": [
    "res = particle_swarm(objectiveFunction3, funcFeasible3, A_ub, b_ub, None, None, bounds, N=100, MaxIter=100, c1=0.9, c2=0.9, w=0.9)\n",
    "print(res)"
   ]
  },
  {
   "cell_type": "markdown",
   "metadata": {},
   "source": [
    "### <br><br><br><br>Problem 4\n",
    "$$ Max 6.5P1 + 7P2 $$\n",
    "$$ S.A. $$\n",
    "$$ 2P1 + 3P2 <= 600 $$\n",
    "$$ P1 + P2 <= 500 $$\n",
    "$$ 2P1 + P2 <= 400 $$\n",
    "$$ P1, P2 >= 0 $$"
   ]
  },
  {
   "cell_type": "markdown",
   "metadata": {},
   "source": [
    "#### Scipy solution"
   ]
  },
  {
   "cell_type": "code",
   "execution_count": 18,
   "metadata": {},
   "outputs": [
    {
     "data": {
      "text/plain": [
       "     con: array([], dtype=float64)\n",
       "     fun: -1674.9999810009308\n",
       " message: 'Optimization terminated successfully.'\n",
       "     nit: 5\n",
       "   slack: array([  0.00000665, 250.00000285,   0.00000474])\n",
       "  status: 0\n",
       " success: True\n",
       "       x: array([149.99999811,  99.99999904])"
      ]
     },
     "execution_count": 18,
     "metadata": {},
     "output_type": "execute_result"
    }
   ],
   "source": [
    "A_ub = [[2,3],\n",
    "        [1,1],\n",
    "        [2,1]]\n",
    "b_ub = [600,500,400]\n",
    "bounds = [[0,500],\n",
    "          [0,500]]\n",
    "c = [-6.5,-7]\n",
    "\n",
    "linprog(c, A_ub=A_ub, b_ub=b_ub, A_eq=None, b_eq=None,bounds=bounds)"
   ]
  },
  {
   "cell_type": "markdown",
   "metadata": {},
   "source": [
    "#### Own solution"
   ]
  },
  {
   "cell_type": "code",
   "execution_count": 19,
   "metadata": {},
   "outputs": [],
   "source": [
    "def objectiveFunction4(P):\n",
    "    # Obtener resultado.\n",
    "    res = -6.5*P[0] - 7*P[1]\n",
    "    \n",
    "    return res"
   ]
  },
  {
   "cell_type": "code",
   "execution_count": 20,
   "metadata": {},
   "outputs": [],
   "source": [
    "def funcFeasible4(P, A_ub, b_ub, A_eq, b_eq, bounds):\n",
    "    # Arreglo de resultados de los constraints.\n",
    "    constraint_results = np.zeros((3), dtype=float)\n",
    "    \n",
    "    # Obtener resultados de las restricciones.\n",
    "    for i in range(3):\n",
    "        constraint_results[i] = np.dot(A_ub[i], P)\n",
    "        \n",
    "        # Verificar restricciones.\n",
    "        if constraint_results[i] > b_ub[i]:\n",
    "            return False\n",
    "        \n",
    "    # Verificar restricciones de la variable.\n",
    "    for i in range(2):\n",
    "        if P[i] < bounds[i,0]:\n",
    "            return False\n",
    "        elif P[i] > bounds[i,1]:\n",
    "            return False\n",
    "\n",
    "    return True"
   ]
  },
  {
   "cell_type": "code",
   "execution_count": 21,
   "metadata": {},
   "outputs": [
    {
     "name": "stdout",
     "output_type": "stream",
     "text": [
      "{'fun': array(-1674.90600043), 'nit': 30, 'x': array([149.94872751, 100.03418166])}\n"
     ]
    }
   ],
   "source": [
    "res = particle_swarm(objectiveFunction4, funcFeasible4, A_ub, b_ub, None, None, bounds, N=100, MaxIter=30, c1=0.9, c2=0.9, w=0.9)\n",
    "print(res)"
   ]
  },
  {
   "cell_type": "markdown",
   "metadata": {},
   "source": [
    "### <br><br><br><br>Problem 5\n",
    "$$ Min 800g + 600p $$\n",
    "$$ S.A. $$\n",
    "$$ 50g + 40p >= 400 $$\n",
    "$$ p + g <= 9 $$\n",
    "$$ 0 <= g <= 10 $$\n",
    "$$ 0 <= p <= 8 $$"
   ]
  },
  {
   "cell_type": "markdown",
   "metadata": {},
   "source": [
    "#### Scipy solution"
   ]
  },
  {
   "cell_type": "code",
   "execution_count": 22,
   "metadata": {},
   "outputs": [
    {
     "data": {
      "text/plain": [
       "     con: array([], dtype=float64)\n",
       "     fun: 6199.999992693294\n",
       " message: 'Optimization terminated successfully.'\n",
       "     nit: 6\n",
       "   slack: array([-0.00000046,  0.00000001])\n",
       "  status: 0\n",
       " success: True\n",
       "       x: array([3.99999999, 5.        ])"
      ]
     },
     "execution_count": 22,
     "metadata": {},
     "output_type": "execute_result"
    }
   ],
   "source": [
    "A_ub = [[-50,-40],\n",
    "        [1,1]]\n",
    "b_ub = [-400,\n",
    "        9]\n",
    "bounds = [[0,10],\n",
    "          [0,8]]\n",
    "c = [800,600]\n",
    "\n",
    "linprog(c, A_ub=A_ub, b_ub=b_ub, A_eq=None, b_eq=None, bounds=bounds)"
   ]
  },
  {
   "cell_type": "markdown",
   "metadata": {},
   "source": [
    "#### Own solution"
   ]
  },
  {
   "cell_type": "code",
   "execution_count": 23,
   "metadata": {},
   "outputs": [],
   "source": [
    "def objectiveFunction5(P):\n",
    "    # Obtener resultado.\n",
    "    res = 800*P[0] + 600*P[1]\n",
    "\n",
    "    return res"
   ]
  },
  {
   "cell_type": "code",
   "execution_count": 24,
   "metadata": {},
   "outputs": [],
   "source": [
    "def funcFeasible5(P, A_ub, b_ub, A_eq, b_eq, bounds):\n",
    "    # Arreglo de resultados de los constraints.\n",
    "    constraint_results = np.zeros((2), dtype=float)\n",
    "    \n",
    "    # Obtener resultados de las restricciones.\n",
    "    for i in range(2):\n",
    "        constraint_results[i] = np.dot(A_ub[i], P)\n",
    "        \n",
    "        # Verificar restricciones.\n",
    "        if constraint_results[i] > b_ub[i]:\n",
    "            return False\n",
    "        \n",
    "    # Verificar restricciones de la variable.\n",
    "    for i in range(2):\n",
    "        if P[i] < bounds[i,0]:\n",
    "            return False\n",
    "        elif P[i] > bounds[i,1]:\n",
    "            return False\n",
    "\n",
    "    return True"
   ]
  },
  {
   "cell_type": "code",
   "execution_count": 25,
   "metadata": {},
   "outputs": [
    {
     "name": "stdout",
     "output_type": "stream",
     "text": [
      "{'fun': array(6200.20172594), 'nit': 30, 'x': array([4.00402797, 4.99496559])}\n"
     ]
    }
   ],
   "source": [
    "res = particle_swarm(objectiveFunction5, funcFeasible5, A_ub, b_ub, None, None, bounds, N=100, MaxIter=30, c1=0.9, c2=0.9, w=0.9)\n",
    "print(res)"
   ]
  }
 ],
 "metadata": {
  "kernelspec": {
   "display_name": "Python 3",
   "language": "python",
   "name": "python3"
  },
  "language_info": {
   "codemirror_mode": {
    "name": "ipython",
    "version": 3
   },
   "file_extension": ".py",
   "mimetype": "text/x-python",
   "name": "python",
   "nbconvert_exporter": "python",
   "pygments_lexer": "ipython3",
   "version": "3.8.3"
  }
 },
 "nbformat": 4,
 "nbformat_minor": 4
}
